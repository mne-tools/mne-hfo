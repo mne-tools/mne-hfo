{
 "cells": [
  {
   "cell_type": "markdown",
   "metadata": {},
   "source": [
    "# Hilbert Detector"
   ]
  },
  {
   "cell_type": "code",
   "execution_count": 1,
   "metadata": {},
   "outputs": [],
   "source": [
    "# first let's load in all our packages\n",
    "import matplotlib\n",
    "import matplotlib.pyplot as plt\n",
    "import numpy as np\n",
    "import sys\n",
    "import os\n",
    "import re\n",
    "import pandas as pd\n",
    "\n",
    "\n",
    "from mne_bids import (read_raw_bids, BIDSPath, \n",
    "                      get_entity_vals, get_datatypes, \n",
    "                      make_report)\n",
    "from mne_bids.stats import count_events\n",
    "\n",
    "import mne\n",
    "from mne import make_ad_hoc_cov\n",
    "\n",
    "basepath = os.path.join(os.getcwd(), \"../..\")\n",
    "sys.path.append(basepath)\n",
    "from mne_hfo import HilbertDetector"
   ]
  },
  {
   "cell_type": "code",
   "execution_count": 2,
   "metadata": {},
   "outputs": [],
   "source": [
    "%%capture\n",
    "# this may change depending on where you store the data\n",
    "root = \"C:/Users/patri/Dropbox/fedele_hfo_data\"\n",
    "subjects = get_entity_vals(root, 'subject')\n",
    "sessions = get_entity_vals(root, 'session')\n",
    "subjectID = subjects[0]\n",
    "sessionID = sessions[0]\n",
    "bids_path = BIDSPath(subject=subjectID, session=sessionID,\n",
    "                     datatype='ieeg', \n",
    "                     suffix='ieeg',\n",
    "                     extension='.vhdr', root=root)\n",
    "\n",
    "# get first matching dataset\n",
    "fpath = bids_path.match()[0]\n",
    "# load dataset into mne Raw object\n",
    "extra_params = dict(preload=True)\n",
    "raw = read_raw_bids(fpath, extra_params)"
   ]
  },
  {
   "cell_type": "code",
   "execution_count": 3,
   "metadata": {},
   "outputs": [],
   "source": [
    "def convert_to_bipolar(raw, drop_originals=True):\n",
    "    original_ch_names = raw.ch_names\n",
    "    ch_names_sorted = sorted(original_ch_names)\n",
    "    ch_pairs = [] \n",
    "    for first, second in zip(ch_names_sorted, ch_names_sorted[1:]):\n",
    "        firstName = re.sub(r'[0-9]+', '', first)\n",
    "        secondName = re.sub(r'[0-9]+', '', second)\n",
    "        if firstName == secondName:\n",
    "            ch_pairs.append((first,second))\n",
    "    for ch_pair in ch_pairs:\n",
    "        raw = mne.set_bipolar_reference(raw, ch_pair[0], ch_pair[1], drop_refs=False)\n",
    "    if drop_originals:\n",
    "        raw = raw.drop_channels(original_ch_names)\n",
    "    return raw"
   ]
  },
  {
   "cell_type": "code",
   "execution_count": 4,
   "metadata": {},
   "outputs": [
    {
     "ename": "TypeError",
     "evalue": "slice indices must be integers or None or have an __index__ method",
     "output_type": "error",
     "traceback": [
      "\u001b[1;31m---------------------------------------------------------------------------\u001b[0m",
      "\u001b[1;31mTypeError\u001b[0m                                 Traceback (most recent call last)",
      "\u001b[1;32m<ipython-input-4-f6e3da9a949b>\u001b[0m in \u001b[0;36m<module>\u001b[1;34m\u001b[0m\n\u001b[0;32m      2\u001b[0m \u001b[0minfo\u001b[0m \u001b[1;33m=\u001b[0m \u001b[0mraw\u001b[0m\u001b[1;33m.\u001b[0m\u001b[0minfo\u001b[0m\u001b[1;33m\u001b[0m\u001b[1;33m\u001b[0m\u001b[0m\n\u001b[0;32m      3\u001b[0m \u001b[0msfreq\u001b[0m \u001b[1;33m=\u001b[0m \u001b[0minfo\u001b[0m\u001b[1;33m[\u001b[0m\u001b[1;34m'sfreq'\u001b[0m\u001b[1;33m]\u001b[0m\u001b[1;33m\u001b[0m\u001b[1;33m\u001b[0m\u001b[0m\n\u001b[1;32m----> 4\u001b[1;33m \u001b[0mdata\u001b[0m \u001b[1;33m=\u001b[0m \u001b[0mraw\u001b[0m\u001b[1;33m.\u001b[0m\u001b[0mget_data\u001b[0m\u001b[1;33m(\u001b[0m\u001b[0mstart\u001b[0m\u001b[1;33m=\u001b[0m\u001b[1;36m0\u001b[0m\u001b[1;33m,\u001b[0m \u001b[0mstop\u001b[0m\u001b[1;33m=\u001b[0m\u001b[1;36m30\u001b[0m\u001b[1;33m*\u001b[0m\u001b[0msfreq\u001b[0m\u001b[1;33m)\u001b[0m\u001b[1;33m\u001b[0m\u001b[1;33m\u001b[0m\u001b[0m\n\u001b[0m\u001b[0;32m      5\u001b[0m \u001b[0mraw\u001b[0m \u001b[1;33m=\u001b[0m \u001b[0mmne\u001b[0m\u001b[1;33m.\u001b[0m\u001b[0mio\u001b[0m\u001b[1;33m.\u001b[0m\u001b[0mRawArray\u001b[0m\u001b[1;33m(\u001b[0m\u001b[0mdata\u001b[0m\u001b[1;33m,\u001b[0m \u001b[0minfo\u001b[0m\u001b[1;33m=\u001b[0m\u001b[0minfo\u001b[0m\u001b[1;33m)\u001b[0m\u001b[1;33m\u001b[0m\u001b[1;33m\u001b[0m\u001b[0m\n",
      "\u001b[1;32m<decorator-gen-170>\u001b[0m in \u001b[0;36mget_data\u001b[1;34m(self, picks, start, stop, reject_by_annotation, return_times, verbose)\u001b[0m\n",
      "\u001b[1;32m~\\.virtualenvs\\mne-hfo-tjBZjdVA\\lib\\site-packages\\mne\\io\\base.py\u001b[0m in \u001b[0;36mget_data\u001b[1;34m(self, picks, start, stop, reject_by_annotation, return_times, verbose)\u001b[0m\n\u001b[0;32m    823\u001b[0m         \u001b[0mstop\u001b[0m \u001b[1;33m=\u001b[0m \u001b[0mmin\u001b[0m\u001b[1;33m(\u001b[0m\u001b[0mself\u001b[0m\u001b[1;33m.\u001b[0m\u001b[0mn_times\u001b[0m \u001b[1;32mif\u001b[0m \u001b[0mstop\u001b[0m \u001b[1;32mis\u001b[0m \u001b[1;32mNone\u001b[0m \u001b[1;32melse\u001b[0m \u001b[0mstop\u001b[0m\u001b[1;33m,\u001b[0m \u001b[0mself\u001b[0m\u001b[1;33m.\u001b[0m\u001b[0mn_times\u001b[0m\u001b[1;33m)\u001b[0m\u001b[1;33m\u001b[0m\u001b[1;33m\u001b[0m\u001b[0m\n\u001b[0;32m    824\u001b[0m         \u001b[1;32mif\u001b[0m \u001b[0mlen\u001b[0m\u001b[1;33m(\u001b[0m\u001b[0mself\u001b[0m\u001b[1;33m.\u001b[0m\u001b[0mannotations\u001b[0m\u001b[1;33m)\u001b[0m \u001b[1;33m==\u001b[0m \u001b[1;36m0\u001b[0m \u001b[1;32mor\u001b[0m \u001b[0mreject_by_annotation\u001b[0m \u001b[1;32mis\u001b[0m \u001b[1;32mNone\u001b[0m\u001b[1;33m:\u001b[0m\u001b[1;33m\u001b[0m\u001b[1;33m\u001b[0m\u001b[0m\n\u001b[1;32m--> 825\u001b[1;33m             \u001b[0mdata\u001b[0m\u001b[1;33m,\u001b[0m \u001b[0mtimes\u001b[0m \u001b[1;33m=\u001b[0m \u001b[0mself\u001b[0m\u001b[1;33m[\u001b[0m\u001b[0mpicks\u001b[0m\u001b[1;33m,\u001b[0m \u001b[0mstart\u001b[0m\u001b[1;33m:\u001b[0m\u001b[0mstop\u001b[0m\u001b[1;33m]\u001b[0m\u001b[1;33m\u001b[0m\u001b[1;33m\u001b[0m\u001b[0m\n\u001b[0m\u001b[0;32m    826\u001b[0m             \u001b[1;32mreturn\u001b[0m \u001b[1;33m(\u001b[0m\u001b[0mdata\u001b[0m\u001b[1;33m,\u001b[0m \u001b[0mtimes\u001b[0m\u001b[1;33m)\u001b[0m \u001b[1;32mif\u001b[0m \u001b[0mreturn_times\u001b[0m \u001b[1;32melse\u001b[0m \u001b[0mdata\u001b[0m\u001b[1;33m\u001b[0m\u001b[1;33m\u001b[0m\u001b[0m\n\u001b[0;32m    827\u001b[0m         _check_option('reject_by_annotation', reject_by_annotation.lower(),\n",
      "\u001b[1;32m~\\.virtualenvs\\mne-hfo-tjBZjdVA\\lib\\site-packages\\mne\\io\\base.py\u001b[0m in \u001b[0;36m__getitem__\u001b[1;34m(self, item)\u001b[0m\n\u001b[0;32m    770\u001b[0m         \u001b[0msel\u001b[0m\u001b[1;33m,\u001b[0m \u001b[0mstart\u001b[0m\u001b[1;33m,\u001b[0m \u001b[0mstop\u001b[0m \u001b[1;33m=\u001b[0m \u001b[0mself\u001b[0m\u001b[1;33m.\u001b[0m\u001b[0m_parse_get_set_params\u001b[0m\u001b[1;33m(\u001b[0m\u001b[0mitem\u001b[0m\u001b[1;33m)\u001b[0m\u001b[1;33m\u001b[0m\u001b[1;33m\u001b[0m\u001b[0m\n\u001b[0;32m    771\u001b[0m         \u001b[1;32mif\u001b[0m \u001b[0mself\u001b[0m\u001b[1;33m.\u001b[0m\u001b[0mpreload\u001b[0m\u001b[1;33m:\u001b[0m\u001b[1;33m\u001b[0m\u001b[1;33m\u001b[0m\u001b[0m\n\u001b[1;32m--> 772\u001b[1;33m             \u001b[0mdata\u001b[0m \u001b[1;33m=\u001b[0m \u001b[0mself\u001b[0m\u001b[1;33m.\u001b[0m\u001b[0m_data\u001b[0m\u001b[1;33m[\u001b[0m\u001b[0msel\u001b[0m\u001b[1;33m,\u001b[0m \u001b[0mstart\u001b[0m\u001b[1;33m:\u001b[0m\u001b[0mstop\u001b[0m\u001b[1;33m]\u001b[0m\u001b[1;33m\u001b[0m\u001b[1;33m\u001b[0m\u001b[0m\n\u001b[0m\u001b[0;32m    773\u001b[0m         \u001b[1;32melse\u001b[0m\u001b[1;33m:\u001b[0m\u001b[1;33m\u001b[0m\u001b[1;33m\u001b[0m\u001b[0m\n\u001b[0;32m    774\u001b[0m             data = self._read_segment(start=start, stop=stop, sel=sel,\n",
      "\u001b[1;31mTypeError\u001b[0m: slice indices must be integers or None or have an __index__ method"
     ]
    }
   ],
   "source": [
    "%%capture\n",
    "raw = convert_to_bipolar(raw)\n"
   ]
  },
  {
   "cell_type": "code",
   "execution_count": 7,
   "metadata": {},
   "outputs": [
    {
     "name": "stdout",
     "output_type": "stream",
     "text": [
      "Creating RawArray with float64 data, n_channels=43, n_times=60000\n",
      "    Range : 0 ... 59999 =      0.000 ...    30.000 secs\n",
      "Ready.\n"
     ]
    }
   ],
   "source": [
    "info = raw.info\n",
    "sfreq = info['sfreq']\n",
    "data = raw.get_data(start=0, stop=int(30*sfreq))\n",
    "raw = mne.io.RawArray(data, info=info)"
   ]
  },
  {
   "cell_type": "code",
   "execution_count": 8,
   "metadata": {},
   "outputs": [],
   "source": [
    "kwargs = {\n",
    "    'band_method': 'log',\n",
    "    'filter_band': (80, 250), # (l_freq, h_freq)\n",
    "    'threshold': 3, # Number of st. deviations\n",
    "    'hfo_name': \"ripple\",\n",
    "    'n_jobs': 1,\n",
    "}\n",
    "hil_detector = HilbertDetector(**kwargs)"
   ]
  },
  {
   "cell_type": "code",
   "execution_count": 9,
   "metadata": {},
   "outputs": [
    {
     "data": {
      "text/plain": [
       "60000"
      ]
     },
     "execution_count": 9,
     "metadata": {},
     "output_type": "execute_result"
    }
   ],
   "source": [
    "raw.n_times"
   ]
  },
  {
   "cell_type": "code",
   "execution_count": 10,
   "metadata": {},
   "outputs": [
    {
     "name": "stderr",
     "output_type": "stream",
     "text": [
      "\r",
      "  0%|          | 0/43 [00:00<?, ?it/s]"
     ]
    },
    {
     "name": "stdout",
     "output_type": "stream",
     "text": [
      "freq_span: 61\n"
     ]
    },
    {
     "name": "stderr",
     "output_type": "stream",
     "text": [
      "\r",
      "  2%|▏         | 1/43 [00:00<00:21,  2.00it/s]"
     ]
    },
    {
     "name": "stdout",
     "output_type": "stream",
     "text": [
      "freq_span: 61\n"
     ]
    },
    {
     "name": "stderr",
     "output_type": "stream",
     "text": [
      "\r",
      "  5%|▍         | 2/43 [00:00<00:20,  2.00it/s]"
     ]
    },
    {
     "name": "stdout",
     "output_type": "stream",
     "text": [
      "freq_span: 61\n"
     ]
    },
    {
     "name": "stderr",
     "output_type": "stream",
     "text": [
      "\r",
      "  7%|▋         | 3/43 [00:01<00:19,  2.02it/s]"
     ]
    },
    {
     "name": "stdout",
     "output_type": "stream",
     "text": [
      "freq_span: 61\n"
     ]
    },
    {
     "name": "stderr",
     "output_type": "stream",
     "text": [
      "\r",
      "  9%|▉         | 4/43 [00:01<00:19,  2.03it/s]"
     ]
    },
    {
     "name": "stdout",
     "output_type": "stream",
     "text": [
      "freq_span: 61\n"
     ]
    },
    {
     "name": "stderr",
     "output_type": "stream",
     "text": [
      "\r",
      " 12%|█▏        | 5/43 [00:02<00:18,  2.07it/s]"
     ]
    },
    {
     "name": "stdout",
     "output_type": "stream",
     "text": [
      "freq_span: 61\n"
     ]
    },
    {
     "name": "stderr",
     "output_type": "stream",
     "text": [
      "\r",
      " 14%|█▍        | 6/43 [00:02<00:17,  2.09it/s]"
     ]
    },
    {
     "name": "stdout",
     "output_type": "stream",
     "text": [
      "freq_span: 61\n"
     ]
    },
    {
     "name": "stderr",
     "output_type": "stream",
     "text": [
      "\r",
      " 16%|█▋        | 7/43 [00:03<00:16,  2.12it/s]"
     ]
    },
    {
     "name": "stdout",
     "output_type": "stream",
     "text": [
      "freq_span: 61\n"
     ]
    },
    {
     "name": "stderr",
     "output_type": "stream",
     "text": [
      "\r",
      " 19%|█▊        | 8/43 [00:03<00:16,  2.13it/s]"
     ]
    },
    {
     "name": "stdout",
     "output_type": "stream",
     "text": [
      "freq_span: 61\n"
     ]
    },
    {
     "name": "stderr",
     "output_type": "stream",
     "text": [
      "\r",
      " 21%|██        | 9/43 [00:04<00:15,  2.16it/s]"
     ]
    },
    {
     "name": "stdout",
     "output_type": "stream",
     "text": [
      "freq_span: 61\n"
     ]
    },
    {
     "name": "stderr",
     "output_type": "stream",
     "text": [
      "\r",
      " 23%|██▎       | 10/43 [00:04<00:15,  2.19it/s]"
     ]
    },
    {
     "name": "stdout",
     "output_type": "stream",
     "text": [
      "freq_span: 61\n"
     ]
    },
    {
     "name": "stderr",
     "output_type": "stream",
     "text": [
      "\r",
      " 26%|██▌       | 11/43 [00:05<00:14,  2.20it/s]"
     ]
    },
    {
     "name": "stdout",
     "output_type": "stream",
     "text": [
      "freq_span: 61\n"
     ]
    },
    {
     "name": "stderr",
     "output_type": "stream",
     "text": [
      "\r",
      " 28%|██▊       | 12/43 [00:05<00:14,  2.18it/s]"
     ]
    },
    {
     "name": "stdout",
     "output_type": "stream",
     "text": [
      "freq_span: 61\n"
     ]
    },
    {
     "name": "stderr",
     "output_type": "stream",
     "text": [
      "\r",
      " 30%|███       | 13/43 [00:06<00:13,  2.15it/s]"
     ]
    },
    {
     "name": "stdout",
     "output_type": "stream",
     "text": [
      "freq_span: 61\n"
     ]
    },
    {
     "name": "stderr",
     "output_type": "stream",
     "text": [
      "\r",
      " 33%|███▎      | 14/43 [00:06<00:13,  2.15it/s]"
     ]
    },
    {
     "name": "stdout",
     "output_type": "stream",
     "text": [
      "freq_span: 61\n"
     ]
    },
    {
     "name": "stderr",
     "output_type": "stream",
     "text": [
      "\r",
      " 35%|███▍      | 15/43 [00:07<00:13,  2.15it/s]"
     ]
    },
    {
     "name": "stdout",
     "output_type": "stream",
     "text": [
      "freq_span: 61\n"
     ]
    },
    {
     "name": "stderr",
     "output_type": "stream",
     "text": [
      "\r",
      " 37%|███▋      | 16/43 [00:07<00:12,  2.17it/s]"
     ]
    },
    {
     "name": "stdout",
     "output_type": "stream",
     "text": [
      "freq_span: 61\n"
     ]
    },
    {
     "name": "stderr",
     "output_type": "stream",
     "text": [
      "\r",
      " 40%|███▉      | 17/43 [00:07<00:11,  2.18it/s]"
     ]
    },
    {
     "name": "stdout",
     "output_type": "stream",
     "text": [
      "freq_span: 61\n"
     ]
    },
    {
     "name": "stderr",
     "output_type": "stream",
     "text": [
      "\r",
      " 42%|████▏     | 18/43 [00:08<00:11,  2.21it/s]"
     ]
    },
    {
     "name": "stdout",
     "output_type": "stream",
     "text": [
      "freq_span: 61\n"
     ]
    },
    {
     "name": "stderr",
     "output_type": "stream",
     "text": [
      "\r",
      " 44%|████▍     | 19/43 [00:08<00:10,  2.24it/s]"
     ]
    },
    {
     "name": "stdout",
     "output_type": "stream",
     "text": [
      "freq_span: 61\n"
     ]
    },
    {
     "name": "stderr",
     "output_type": "stream",
     "text": [
      "\r",
      " 47%|████▋     | 20/43 [00:09<00:10,  2.24it/s]"
     ]
    },
    {
     "name": "stdout",
     "output_type": "stream",
     "text": [
      "freq_span: 61\n"
     ]
    },
    {
     "name": "stderr",
     "output_type": "stream",
     "text": [
      "\r",
      " 49%|████▉     | 21/43 [00:09<00:09,  2.23it/s]"
     ]
    },
    {
     "name": "stdout",
     "output_type": "stream",
     "text": [
      "freq_span: 61\n"
     ]
    },
    {
     "name": "stderr",
     "output_type": "stream",
     "text": [
      "\r",
      " 51%|█████     | 22/43 [00:10<00:09,  2.22it/s]"
     ]
    },
    {
     "name": "stdout",
     "output_type": "stream",
     "text": [
      "freq_span: 61\n"
     ]
    },
    {
     "name": "stderr",
     "output_type": "stream",
     "text": [
      "\r",
      " 53%|█████▎    | 23/43 [00:10<00:08,  2.25it/s]"
     ]
    },
    {
     "name": "stdout",
     "output_type": "stream",
     "text": [
      "freq_span: 61\n"
     ]
    },
    {
     "name": "stderr",
     "output_type": "stream",
     "text": [
      "\r",
      " 56%|█████▌    | 24/43 [00:11<00:08,  2.25it/s]"
     ]
    },
    {
     "name": "stdout",
     "output_type": "stream",
     "text": [
      "freq_span: 61\n"
     ]
    },
    {
     "name": "stderr",
     "output_type": "stream",
     "text": [
      "\r",
      " 58%|█████▊    | 25/43 [00:11<00:07,  2.25it/s]"
     ]
    },
    {
     "name": "stdout",
     "output_type": "stream",
     "text": [
      "freq_span: 61\n"
     ]
    },
    {
     "name": "stderr",
     "output_type": "stream",
     "text": [
      "\r",
      " 60%|██████    | 26/43 [00:11<00:07,  2.24it/s]"
     ]
    },
    {
     "name": "stdout",
     "output_type": "stream",
     "text": [
      "freq_span: 61\n"
     ]
    },
    {
     "name": "stderr",
     "output_type": "stream",
     "text": [
      "\r",
      " 63%|██████▎   | 27/43 [00:12<00:07,  2.25it/s]"
     ]
    },
    {
     "name": "stdout",
     "output_type": "stream",
     "text": [
      "freq_span: 61\n"
     ]
    },
    {
     "name": "stderr",
     "output_type": "stream",
     "text": [
      "\r",
      " 65%|██████▌   | 28/43 [00:12<00:06,  2.24it/s]"
     ]
    },
    {
     "name": "stdout",
     "output_type": "stream",
     "text": [
      "freq_span: 61\n"
     ]
    },
    {
     "name": "stderr",
     "output_type": "stream",
     "text": [
      "\r",
      " 67%|██████▋   | 29/43 [00:13<00:06,  2.22it/s]"
     ]
    },
    {
     "name": "stdout",
     "output_type": "stream",
     "text": [
      "freq_span: 61\n"
     ]
    },
    {
     "name": "stderr",
     "output_type": "stream",
     "text": [
      "\r",
      " 70%|██████▉   | 30/43 [00:13<00:05,  2.24it/s]"
     ]
    },
    {
     "name": "stdout",
     "output_type": "stream",
     "text": [
      "freq_span: 61\n"
     ]
    },
    {
     "name": "stderr",
     "output_type": "stream",
     "text": [
      "\r",
      " 72%|███████▏  | 31/43 [00:14<00:05,  2.26it/s]"
     ]
    },
    {
     "name": "stdout",
     "output_type": "stream",
     "text": [
      "freq_span: 61\n"
     ]
    },
    {
     "name": "stderr",
     "output_type": "stream",
     "text": [
      "\r",
      " 74%|███████▍  | 32/43 [00:14<00:04,  2.26it/s]"
     ]
    },
    {
     "name": "stdout",
     "output_type": "stream",
     "text": [
      "freq_span: 61\n"
     ]
    },
    {
     "name": "stderr",
     "output_type": "stream",
     "text": [
      "\r",
      " 77%|███████▋  | 33/43 [00:15<00:04,  2.25it/s]"
     ]
    },
    {
     "name": "stdout",
     "output_type": "stream",
     "text": [
      "freq_span: 61\n"
     ]
    },
    {
     "name": "stderr",
     "output_type": "stream",
     "text": [
      "\r",
      " 79%|███████▉  | 34/43 [00:15<00:03,  2.25it/s]"
     ]
    },
    {
     "name": "stdout",
     "output_type": "stream",
     "text": [
      "freq_span: 61\n"
     ]
    },
    {
     "name": "stderr",
     "output_type": "stream",
     "text": [
      "\r",
      " 81%|████████▏ | 35/43 [00:15<00:03,  2.25it/s]"
     ]
    },
    {
     "name": "stdout",
     "output_type": "stream",
     "text": [
      "freq_span: 61\n"
     ]
    },
    {
     "name": "stderr",
     "output_type": "stream",
     "text": [
      "\r",
      " 84%|████████▎ | 36/43 [00:16<00:03,  2.27it/s]"
     ]
    },
    {
     "name": "stdout",
     "output_type": "stream",
     "text": [
      "freq_span: 61\n"
     ]
    },
    {
     "name": "stderr",
     "output_type": "stream",
     "text": [
      "\r",
      " 86%|████████▌ | 37/43 [00:16<00:02,  2.25it/s]"
     ]
    },
    {
     "name": "stdout",
     "output_type": "stream",
     "text": [
      "freq_span: 61\n"
     ]
    },
    {
     "name": "stderr",
     "output_type": "stream",
     "text": [
      "\r",
      " 88%|████████▊ | 38/43 [00:17<00:02,  2.28it/s]"
     ]
    },
    {
     "name": "stdout",
     "output_type": "stream",
     "text": [
      "freq_span: 61\n"
     ]
    },
    {
     "name": "stderr",
     "output_type": "stream",
     "text": [
      "\r",
      " 91%|█████████ | 39/43 [00:17<00:01,  2.28it/s]"
     ]
    },
    {
     "name": "stdout",
     "output_type": "stream",
     "text": [
      "freq_span: 61\n"
     ]
    },
    {
     "name": "stderr",
     "output_type": "stream",
     "text": [
      "\r",
      " 93%|█████████▎| 40/43 [00:18<00:01,  2.29it/s]"
     ]
    },
    {
     "name": "stdout",
     "output_type": "stream",
     "text": [
      "freq_span: 61\n"
     ]
    },
    {
     "name": "stderr",
     "output_type": "stream",
     "text": [
      "\r",
      " 95%|█████████▌| 41/43 [00:18<00:00,  2.26it/s]"
     ]
    },
    {
     "name": "stdout",
     "output_type": "stream",
     "text": [
      "freq_span: 61\n"
     ]
    },
    {
     "name": "stderr",
     "output_type": "stream",
     "text": [
      "\r",
      " 98%|█████████▊| 42/43 [00:19<00:00,  2.26it/s]"
     ]
    },
    {
     "name": "stdout",
     "output_type": "stream",
     "text": [
      "freq_span: 61\n"
     ]
    },
    {
     "name": "stderr",
     "output_type": "stream",
     "text": [
      "100%|██████████| 43/43 [00:19<00:00,  2.21it/s]\n",
      "  0%|          | 0/43 [00:00<?, ?it/s]\n",
      "100%|██████████| 61/61 [00:00<00:00, 815.07HFO-first-phase/s]\n",
      "\n",
      "100%|██████████| 61/61 [00:00<00:00, 820.47HFO-first-phase/s]\n",
      "  5%|▍         | 2/43 [00:00<00:03, 12.98it/s]\n",
      "100%|██████████| 61/61 [00:00<00:00, 848.13HFO-first-phase/s]\n",
      "\n",
      "100%|██████████| 61/61 [00:00<00:00, 864.18HFO-first-phase/s]\n",
      "  9%|▉         | 4/43 [00:00<00:02, 13.22it/s]\n",
      "100%|██████████| 61/61 [00:00<00:00, 830.25HFO-first-phase/s]\n",
      "\n",
      "100%|██████████| 61/61 [00:00<00:00, 871.24HFO-first-phase/s]\n",
      " 14%|█▍        | 6/43 [00:00<00:02, 13.35it/s]\n",
      "100%|██████████| 61/61 [00:00<00:00, 847.72HFO-first-phase/s]\n",
      "\n",
      "100%|██████████| 61/61 [00:00<00:00, 847.76HFO-first-phase/s]\n",
      " 19%|█▊        | 8/43 [00:00<00:02, 13.42it/s]\n",
      "100%|██████████| 61/61 [00:00<00:00, 847.64HFO-first-phase/s]\n",
      "\n",
      "100%|██████████| 61/61 [00:00<00:00, 871.45HFO-first-phase/s]\n",
      " 23%|██▎       | 10/43 [00:00<00:02, 13.46it/s]\n",
      "100%|██████████| 61/61 [00:00<00:00, 871.42HFO-first-phase/s]\n",
      "\n",
      "100%|██████████| 61/61 [00:00<00:00, 859.87HFO-first-phase/s]\n",
      " 28%|██▊       | 12/43 [00:00<00:02, 13.56it/s]\n",
      "100%|██████████| 61/61 [00:00<00:00, 865.06HFO-first-phase/s]\n",
      "\n",
      "100%|██████████| 61/61 [00:00<00:00, 859.05HFO-first-phase/s]\n",
      " 33%|███▎      | 14/43 [00:01<00:02, 13.56it/s]\n",
      "100%|██████████| 61/61 [00:00<00:00, 803.96HFO-first-phase/s]\n",
      "\n",
      "100%|██████████| 61/61 [00:00<00:00, 825.24HFO-first-phase/s]\n",
      " 37%|███▋      | 16/43 [00:01<00:02, 13.34it/s]\n",
      "100%|██████████| 61/61 [00:00<00:00, 848.21HFO-first-phase/s]\n",
      "\n",
      "100%|██████████| 61/61 [00:00<00:00, 897.48HFO-first-phase/s]\n",
      " 42%|████▏     | 18/43 [00:01<00:01, 13.47it/s]\n",
      "100%|██████████| 61/61 [00:00<00:00, 884.18HFO-first-phase/s]\n",
      "\n",
      "100%|██████████| 61/61 [00:00<00:00, 896.74HFO-first-phase/s]\n",
      " 47%|████▋     | 20/43 [00:01<00:01, 13.66it/s]\n",
      "100%|██████████| 61/61 [00:00<00:00, 884.58HFO-first-phase/s]\n",
      "\n",
      "100%|██████████| 61/61 [00:00<00:00, 896.35HFO-first-phase/s]\n",
      " 51%|█████     | 22/43 [00:01<00:01, 13.82it/s]\n",
      "100%|██████████| 61/61 [00:00<00:00, 909.52HFO-first-phase/s]\n",
      "\n",
      "100%|██████████| 61/61 [00:00<00:00, 896.39HFO-first-phase/s]\n",
      " 56%|█████▌    | 24/43 [00:01<00:01, 13.99it/s]\n",
      "100%|██████████| 61/61 [00:00<00:00, 896.36HFO-first-phase/s]\n",
      "\n",
      "100%|██████████| 61/61 [00:00<00:00, 909.36HFO-first-phase/s]\n",
      " 60%|██████    | 26/43 [00:01<00:01, 14.07it/s]\n",
      "100%|██████████| 61/61 [00:00<00:00, 896.99HFO-first-phase/s]\n",
      "\n",
      "100%|██████████| 61/61 [00:00<00:00, 916.46HFO-first-phase/s]\n",
      " 65%|██████▌   | 28/43 [00:02<00:01, 14.16it/s]\n",
      "100%|██████████| 61/61 [00:00<00:00, 883.76HFO-first-phase/s]\n",
      "\n",
      "100%|██████████| 61/61 [00:00<00:00, 883.72HFO-first-phase/s]\n",
      " 70%|██████▉   | 30/43 [00:02<00:00, 14.11it/s]\n",
      "100%|██████████| 61/61 [00:00<00:00, 872.18HFO-first-phase/s]\n",
      "\n",
      "100%|██████████| 61/61 [00:00<00:00, 871.87HFO-first-phase/s]\n",
      " 74%|███████▍  | 32/43 [00:02<00:00, 14.02it/s]\n",
      "100%|██████████| 61/61 [00:00<00:00, 871.21HFO-first-phase/s]\n",
      "\n",
      "100%|██████████| 61/61 [00:00<00:00, 884.17HFO-first-phase/s]\n",
      " 79%|███████▉  | 34/43 [00:02<00:00, 14.00it/s]\n",
      "100%|██████████| 61/61 [00:00<00:00, 870.93HFO-first-phase/s]\n",
      "\n",
      "100%|██████████| 61/61 [00:00<00:00, 895.79HFO-first-phase/s]\n",
      " 84%|████████▎ | 36/43 [00:02<00:00, 13.99it/s]\n",
      "100%|██████████| 61/61 [00:00<00:00, 831.16HFO-first-phase/s]\n",
      "\n",
      "100%|██████████| 61/61 [00:00<00:00, 848.07HFO-first-phase/s]\n",
      " 88%|████████▊ | 38/43 [00:02<00:00, 13.80it/s]\n",
      "100%|██████████| 61/61 [00:00<00:00, 839.46HFO-first-phase/s]\n",
      "\n",
      "100%|██████████| 61/61 [00:00<00:00, 854.21HFO-first-phase/s]\n",
      " 93%|█████████▎| 40/43 [00:02<00:00, 13.67it/s]\n",
      "100%|██████████| 61/61 [00:00<00:00, 874.26HFO-first-phase/s]\n",
      "\n",
      "100%|██████████| 61/61 [00:00<00:00, 860.82HFO-first-phase/s]\n",
      " 98%|█████████▊| 42/43 [00:03<00:00, 13.72it/s]\n",
      "100%|██████████| 61/61 [00:00<00:00, 919.07HFO-first-phase/s]\n",
      "100%|██████████| 43/43 [00:03<00:00, 13.74it/s]\n"
     ]
    }
   ],
   "source": [
    "# perform the fits\n",
    "hil_detector = hil_detector.fit(raw)"
   ]
  },
  {
   "cell_type": "code",
   "execution_count": 12,
   "metadata": {},
   "outputs": [
    {
     "data": {
      "text/html": [
       "<div>\n",
       "<style scoped>\n",
       "    .dataframe tbody tr th:only-of-type {\n",
       "        vertical-align: middle;\n",
       "    }\n",
       "\n",
       "    .dataframe tbody tr th {\n",
       "        vertical-align: top;\n",
       "    }\n",
       "\n",
       "    .dataframe thead th {\n",
       "        text-align: right;\n",
       "    }\n",
       "</style>\n",
       "<table border=\"1\" class=\"dataframe\">\n",
       "  <thead>\n",
       "    <tr style=\"text-align: right;\">\n",
       "      <th></th>\n",
       "      <th>onset</th>\n",
       "      <th>duration</th>\n",
       "      <th>label</th>\n",
       "      <th>channels</th>\n",
       "      <th>sample</th>\n",
       "    </tr>\n",
       "  </thead>\n",
       "  <tbody>\n",
       "    <tr>\n",
       "      <th>0</th>\n",
       "      <td>10.4095</td>\n",
       "      <td>0.6320</td>\n",
       "      <td>ripple</td>\n",
       "      <td>AHR1-AHR2</td>\n",
       "      <td>20819.0</td>\n",
       "    </tr>\n",
       "    <tr>\n",
       "      <th>1</th>\n",
       "      <td>14.2345</td>\n",
       "      <td>0.2995</td>\n",
       "      <td>ripple</td>\n",
       "      <td>AHR1-AHR2</td>\n",
       "      <td>28469.0</td>\n",
       "    </tr>\n",
       "    <tr>\n",
       "      <th>2</th>\n",
       "      <td>16.0610</td>\n",
       "      <td>0.3110</td>\n",
       "      <td>ripple</td>\n",
       "      <td>AHR1-AHR2</td>\n",
       "      <td>32122.0</td>\n",
       "    </tr>\n",
       "    <tr>\n",
       "      <th>3</th>\n",
       "      <td>23.8995</td>\n",
       "      <td>0.4905</td>\n",
       "      <td>ripple</td>\n",
       "      <td>AHR1-AHR2</td>\n",
       "      <td>47799.0</td>\n",
       "    </tr>\n",
       "    <tr>\n",
       "      <th>4</th>\n",
       "      <td>10.4225</td>\n",
       "      <td>0.5130</td>\n",
       "      <td>ripple</td>\n",
       "      <td>AHR2-AHR3</td>\n",
       "      <td>20845.0</td>\n",
       "    </tr>\n",
       "    <tr>\n",
       "      <th>...</th>\n",
       "      <td>...</td>\n",
       "      <td>...</td>\n",
       "      <td>...</td>\n",
       "      <td>...</td>\n",
       "      <td>...</td>\n",
       "    </tr>\n",
       "    <tr>\n",
       "      <th>69</th>\n",
       "      <td>16.0450</td>\n",
       "      <td>0.5025</td>\n",
       "      <td>ripple</td>\n",
       "      <td>PHR4-PHR5</td>\n",
       "      <td>32090.0</td>\n",
       "    </tr>\n",
       "    <tr>\n",
       "      <th>70</th>\n",
       "      <td>23.9560</td>\n",
       "      <td>0.5325</td>\n",
       "      <td>ripple</td>\n",
       "      <td>PHR4-PHR5</td>\n",
       "      <td>47912.0</td>\n",
       "    </tr>\n",
       "    <tr>\n",
       "      <th>71</th>\n",
       "      <td>6.4010</td>\n",
       "      <td>0.1840</td>\n",
       "      <td>ripple</td>\n",
       "      <td>PHR5-PHR6</td>\n",
       "      <td>12802.0</td>\n",
       "    </tr>\n",
       "    <tr>\n",
       "      <th>72</th>\n",
       "      <td>1.4250</td>\n",
       "      <td>0.1630</td>\n",
       "      <td>ripple</td>\n",
       "      <td>PHR7-PHR8</td>\n",
       "      <td>2850.0</td>\n",
       "    </tr>\n",
       "    <tr>\n",
       "      <th>73</th>\n",
       "      <td>28.2535</td>\n",
       "      <td>0.3480</td>\n",
       "      <td>ripple</td>\n",
       "      <td>PHR7-PHR8</td>\n",
       "      <td>56507.0</td>\n",
       "    </tr>\n",
       "  </tbody>\n",
       "</table>\n",
       "<p>74 rows × 5 columns</p>\n",
       "</div>"
      ],
      "text/plain": [
       "      onset  duration   label   channels   sample\n",
       "0   10.4095    0.6320  ripple  AHR1-AHR2  20819.0\n",
       "1   14.2345    0.2995  ripple  AHR1-AHR2  28469.0\n",
       "2   16.0610    0.3110  ripple  AHR1-AHR2  32122.0\n",
       "3   23.8995    0.4905  ripple  AHR1-AHR2  47799.0\n",
       "4   10.4225    0.5130  ripple  AHR2-AHR3  20845.0\n",
       "..      ...       ...     ...        ...      ...\n",
       "69  16.0450    0.5025  ripple  PHR4-PHR5  32090.0\n",
       "70  23.9560    0.5325  ripple  PHR4-PHR5  47912.0\n",
       "71   6.4010    0.1840  ripple  PHR5-PHR6  12802.0\n",
       "72   1.4250    0.1630  ripple  PHR7-PHR8   2850.0\n",
       "73  28.2535    0.3480  ripple  PHR7-PHR8  56507.0\n",
       "\n",
       "[74 rows x 5 columns]"
      ]
     },
     "execution_count": 12,
     "metadata": {},
     "output_type": "execute_result"
    }
   ],
   "source": [
    "hil_detector.df_"
   ]
  },
  {
   "cell_type": "code",
   "execution_count": null,
   "metadata": {},
   "outputs": [],
   "source": []
  }
 ],
 "metadata": {
  "kernelspec": {
   "display_name": "Python (other-env)",
   "language": "python",
   "name": "mne-hfo"
  },
  "language_info": {
   "codemirror_mode": {
    "name": "ipython",
    "version": 3
   },
   "file_extension": ".py",
   "mimetype": "text/x-python",
   "name": "python",
   "nbconvert_exporter": "python",
   "pygments_lexer": "ipython3",
   "version": "3.8.6"
  }
 },
 "nbformat": 4,
 "nbformat_minor": 4
}
